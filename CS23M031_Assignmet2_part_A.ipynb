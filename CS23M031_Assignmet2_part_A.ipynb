{
  "metadata": {
    "kernelspec": {
      "language": "python",
      "display_name": "Python 3",
      "name": "python3"
    },
    "language_info": {
      "name": "python",
      "version": "3.10.13",
      "mimetype": "text/x-python",
      "codemirror_mode": {
        "name": "ipython",
        "version": 3
      },
      "pygments_lexer": "ipython3",
      "nbconvert_exporter": "python",
      "file_extension": ".py"
    },
    "kaggle": {
      "accelerator": "nvidiaTeslaT4",
      "dataSources": [],
      "dockerImageVersionId": 30673,
      "isInternetEnabled": true,
      "language": "python",
      "sourceType": "notebook",
      "isGpuEnabled": true
    },
    "colab": {
      "provenance": []
    }
  },
  "nbformat_minor": 0,
  "nbformat": 4,
  "cells": [
    {
      "cell_type": "code",
      "source": [
        "import torch\n",
        "import torchvision.transforms as transforms\n",
        "from torchvision.datasets import ImageFolder\n",
        "from torch.utils.data import DataLoader\n",
        "import os\n",
        "import torch.nn as nn\n",
        "import torch.optim as optim\n",
        "from random import shuffle\n",
        "import wandb\n",
        "import numpy as np\n",
        "from torchvision import datasets, models, transforms\n",
        "from torch.utils.data import SubsetRandomSampler\n",
        "import torchvision"
      ],
      "metadata": {
        "execution": {
          "iopub.status.busy": "2024-04-08T05:23:19.795740Z",
          "iopub.execute_input": "2024-04-08T05:23:19.796032Z",
          "iopub.status.idle": "2024-04-08T05:23:26.990567Z",
          "shell.execute_reply.started": "2024-04-08T05:23:19.795999Z",
          "shell.execute_reply": "2024-04-08T05:23:26.989798Z"
        },
        "trusted": true,
        "id": "tK8Utg2u6Bu1"
      },
      "execution_count": null,
      "outputs": []
    },
    {
      "cell_type": "code",
      "source": [
        "!wget https://storage.googleapis.com/wandb_datasets/nature_12K.zip -O nature_12K.zip\n",
        "!unzip -q nature_12K.zip"
      ],
      "metadata": {
        "execution": {
          "iopub.status.busy": "2024-04-08T05:23:26.992478Z",
          "iopub.execute_input": "2024-04-08T05:23:26.992876Z",
          "iopub.status.idle": "2024-04-08T05:24:14.867190Z",
          "shell.execute_reply.started": "2024-04-08T05:23:26.992841Z",
          "shell.execute_reply": "2024-04-08T05:24:14.865432Z"
        },
        "trusted": true,
        "id": "tuSw4MGt6Bu3",
        "outputId": "52aede11-38a8-403a-df46-77104d896325"
      },
      "execution_count": null,
      "outputs": [
        {
          "name": "stdout",
          "text": "--2024-04-08 05:23:27--  https://storage.googleapis.com/wandb_datasets/nature_12K.zip\nResolving storage.googleapis.com (storage.googleapis.com)... 173.194.217.207, 173.194.210.207, 173.194.211.207, ...\nConnecting to storage.googleapis.com (storage.googleapis.com)|173.194.217.207|:443... connected.\nHTTP request sent, awaiting response... 200 OK\nLength: 3816687935 (3.6G) [application/zip]\nSaving to: 'nature_12K.zip'\n\nnature_12K.zip      100%[===================>]   3.55G   200MB/s    in 18s     \n\n2024-04-08 05:23:46 (198 MB/s) - 'nature_12K.zip' saved [3816687935/3816687935]\n\n",
          "output_type": "stream"
        }
      ]
    },
    {
      "cell_type": "code",
      "source": [],
      "metadata": {
        "trusted": true,
        "id": "gcdKGnvS6Bu4"
      },
      "execution_count": null,
      "outputs": []
    },
    {
      "cell_type": "code",
      "source": [],
      "metadata": {
        "trusted": true,
        "id": "7jkFATnp6Bu4"
      },
      "execution_count": null,
      "outputs": []
    },
    {
      "cell_type": "code",
      "source": [],
      "metadata": {
        "id": "IqFJXq9C6Bu4"
      },
      "execution_count": null,
      "outputs": []
    },
    {
      "cell_type": "code",
      "source": [],
      "metadata": {
        "trusted": true,
        "id": "lNLp7IXq6Bu4"
      },
      "execution_count": null,
      "outputs": []
    },
    {
      "cell_type": "code",
      "source": [],
      "metadata": {
        "trusted": true,
        "id": "joDaftoX6Bu4"
      },
      "execution_count": null,
      "outputs": []
    },
    {
      "cell_type": "code",
      "source": [],
      "metadata": {
        "trusted": true,
        "id": "SqGQad236Bu4"
      },
      "execution_count": null,
      "outputs": []
    },
    {
      "cell_type": "code",
      "source": [
        "import torch\n",
        "import torchvision.transforms as transforms\n",
        "from torchvision.datasets import ImageFolder\n",
        "from torch.utils.data import DataLoader\n",
        "import torch.nn as nn\n",
        "import torch.optim as optim\n",
        "from torchvision import datasets\n",
        "from torch.utils.data import SubsetRandomSampler\n",
        "\n",
        "\n",
        "class CNN(nn.Module):\n",
        "    def __init__(self, img_size, n_filters, filter_size, fc_size, drop_out, n_classes, activation):\n",
        "        super(CNN, self).__init__()\n",
        "        self.img_size = img_size\n",
        "        self.activation = self._get_activation_function(activation)\n",
        "\n",
        "        self.conv1 = nn.Conv2d(3, n_filters[0], kernel_size=filter_size[0], stride=1, padding=0)\n",
        "        self.bn1 = nn.BatchNorm2d(n_filters[0])\n",
        "        self.pool = nn.MaxPool2d(2, 2)\n",
        "\n",
        "        self.conv2 = nn.Conv2d(n_filters[0], n_filters[1], kernel_size=filter_size[1], stride=1, padding=0)\n",
        "        self.bn2 = nn.BatchNorm2d(n_filters[1])\n",
        "\n",
        "        self.conv3 = nn.Conv2d(n_filters[1], n_filters[2], kernel_size=filter_size[2], stride=1, padding=0)\n",
        "        self.bn3 = nn.BatchNorm2d(n_filters[2])\n",
        "\n",
        "        self.conv4 = nn.Conv2d(n_filters[2], n_filters[3], kernel_size=filter_size[3], stride=1, padding=0)\n",
        "        self.bn4 = nn.BatchNorm2d(n_filters[3])\n",
        "\n",
        "        self.conv5 = nn.Conv2d(n_filters[3], n_filters[4], kernel_size=filter_size[4], stride=1, padding=0)\n",
        "        self.bn5 = nn.BatchNorm2d(n_filters[4])\n",
        "\n",
        "        self.drop_out = nn.Dropout(drop_out)\n",
        "\n",
        "        conv_out_size = self._get_conv_out()\n",
        "        self.fc1 = nn.Linear(conv_out_size, fc_size)\n",
        "        self.fc2 = nn.Linear(fc_size, n_classes)\n",
        "\n",
        "    def forward(self, x):\n",
        "        x = self.pool(self.bn1(self.activation(self.conv1(x))))\n",
        "        x = self.pool(self.bn2(self.activation(self.conv2(x))))\n",
        "        x = self.pool(self.bn3(self.activation(self.conv3(x))))\n",
        "        x = self.pool(self.bn4(self.activation(self.conv4(x))))\n",
        "        x = self.pool(self.bn5(self.activation(self.conv5(x))))\n",
        "        x = self.drop_out(x)\n",
        "        x = x.view(x.size(0), -1)  # Flatten\n",
        "        x = self.activation(self.fc1(x))\n",
        "        x = nn.Softmax(dim=1)(self.fc2(x))\n",
        "        return x\n",
        "\n",
        "    def _get_conv_out(self):\n",
        "        x = torch.rand(1, 3, self.img_size, self.img_size)\n",
        "        x = self.pool(self.bn1(self.activation(self.conv1(x))))\n",
        "        x = self.pool(self.bn2(self.activation(self.conv2(x))))\n",
        "        x = self.pool(self.bn3(self.activation(self.conv3(x))))\n",
        "        x = self.pool(self.bn4(self.activation(self.conv4(x))))\n",
        "        x = self.pool(self.bn5(self.activation(self.conv5(x))))\n",
        "        return x.view(1, -1).size(1)\n",
        "\n",
        "    def _get_activation_function(self, activation):\n",
        "        if activation == 'relu':\n",
        "            return nn.ReLU()\n",
        "        elif activation == 'elu':\n",
        "            return nn.ELU()\n",
        "        elif activation == 'silu':\n",
        "            return nn.SiLU()\n",
        "        elif activation == 'selu':\n",
        "            return nn.SELU()\n",
        "        elif activation == 'gelu':\n",
        "            return nn.GELU()\n",
        "\n",
        "\n",
        "def train(model, train_loader, criterion, optimizer, device):\n",
        "    model.train()\n",
        "    running_loss = 0.0\n",
        "    correct_predictions = 0\n",
        "    total_predictions = 0\n",
        "    for inputs, labels in train_loader:\n",
        "        inputs, labels = inputs.to(device), labels.to(device)\n",
        "        optimizer.zero_grad()\n",
        "        outputs = model(inputs)\n",
        "        loss = criterion(outputs, labels)\n",
        "        loss.backward()\n",
        "        optimizer.step()\n",
        "        running_loss += loss.item() * inputs.size(0)\n",
        "        _, predicted = torch.max(outputs, 1)\n",
        "        total_predictions += labels.size(0)\n",
        "        correct_predictions += (predicted == labels).sum().item()\n",
        "    epoch_loss = running_loss / len(train_loader.dataset)\n",
        "    epoch_accuracy = correct_predictions / total_predictions\n",
        "    return epoch_loss, epoch_accuracy\n",
        "\n",
        "\n",
        "def evaluate(model, data_loader, criterion, device):\n",
        "    model.eval()\n",
        "    running_loss = 0.0\n",
        "    correct_predictions = 0\n",
        "    total_predictions = 0\n",
        "    with torch.no_grad():\n",
        "        for inputs, labels in data_loader:\n",
        "            inputs, labels = inputs.to(device), labels.to(device)\n",
        "            outputs = model(inputs)\n",
        "            loss = criterion(outputs, labels)\n",
        "            running_loss += loss.item() * inputs.size(0)\n",
        "            _, predicted = torch.max(outputs, 1)\n",
        "            total_predictions += labels.size(0)\n",
        "            correct_predictions += (predicted == labels).sum().item()\n",
        "    loss = running_loss / len(data_loader.dataset)\n",
        "    accuracy = correct_predictions / total_predictions\n",
        "    return loss, accuracy\n",
        "\n",
        "\n",
        "def fit_model(img_size, n_filters, filter_size, fc_size, drop_out, n_classes, learning_rate, num_epochs,\n",
        "              activation, optimizer_type):\n",
        "\n",
        "    criterion = nn.CrossEntropyLoss()\n",
        "    transform = transforms.Compose([\n",
        "        transforms.Resize((img_size, img_size)),\n",
        "        transforms.ToTensor(),\n",
        "        transforms.Normalize(mean=[0.485, 0.456, 0.406], std=[0.229, 0.224, 0.225])\n",
        "    ])\n",
        "    train_data_path = \"/kaggle/working/inaturalist_12K/train\"\n",
        "    test_data_path = \"/kaggle/working/inaturalist_12K/val\"\n",
        "    train_dataset = datasets.ImageFolder(train_data_path, transform=transform)\n",
        "    val_size = int(0.1 * len(train_dataset))\n",
        "    class_indices = {class_idx: [] for class_idx in range(len(train_dataset.classes))}\n",
        "    for idx, (_, label) in enumerate(train_dataset):\n",
        "        class_indices[label].append(idx)\n",
        "    val_indices = []\n",
        "    for class_idx, indices in class_indices.items():\n",
        "        val_indices.extend(indices[:val_size // len(train_dataset.classes)])\n",
        "    val_sampler = SubsetRandomSampler(val_indices)\n",
        "    batch_size = 512\n",
        "    train_loader = DataLoader(train_dataset, batch_size=batch_size, shuffle=True)\n",
        "    val_loader = DataLoader(train_dataset, batch_size=batch_size, sampler=val_sampler)\n",
        "\n",
        "    model = CNN(img_size, n_filters, filter_size, fc_size, drop_out, n_classes, activation).to(device)\n",
        "\n",
        "    if optimizer_type == 'adam':\n",
        "        optimizer = optim.Adam(model.parameters(), lr=learning_rate)\n",
        "    elif optimizer_type == 'nadam':\n",
        "        optimizer = optim.NAdam(model.parameters(), lr=learning_rate)\n",
        "    elif optimizer_type == 'rmsprop':\n",
        "        optimizer = optim.RMSprop(model.parameters(), lr=learning_rate)\n",
        "\n",
        "    for epoch in range(num_epochs):\n",
        "        train_loss, accuracy = train(model, train_loader, criterion, optimizer, device)\n",
        "        print(f\"Epoch {epoch + 1}/{num_epochs}, Train Loss: {train_loss:.4f}, Train Accuracy: {accuracy:.4f}\")\n",
        "        wandb.log({\"train_loss\":train_loss,\"train_acc\":accuracy,\"Epoch\":epoch})\n",
        "\n",
        "        val_loss, val_accuracy = evaluate(model, val_loader, criterion, device)\n",
        "        print(f\"Validation Loss: {val_loss:.4f}, Validation Accuracy: {val_accuracy:.4f}\")\n",
        "        wandb.log({\"Val_loss\":val_loss,\"Val_acc\":val_accuracy})\n",
        "\n",
        "    test_dataset = datasets.ImageFolder(test_data_path, transform=transform)\n",
        "    test_loader = DataLoader(test_dataset, batch_size=batch_size, shuffle=False)\n",
        "    test_loss, test_accuracy = evaluate(model, test_loader, criterion, device)\n",
        "    print(f\"Test Loss: {test_loss:.4f}, Test Accuracy: {test_accuracy:.4f}\")\n",
        "\n",
        "    return model\n",
        "\n",
        "\n",
        "# Example usage:\n",
        "device = torch.device(\"cuda\" if torch.cuda.is_available() else \"cpu\")\n",
        "\n",
        "img_size = 224\n",
        "n_filters = [16, 32, 64, 128, 256]\n",
        "filter_size = [3, 3, 3, 3, 3]\n",
        "fc_size = 512\n",
        "drop_out = 0.5\n",
        "n_classes = 10\n",
        "learning_rate = 0.0001\n",
        "num_epochs = 10\n",
        "activation = 'relu'\n",
        "optimizer_type = 'adam'\n",
        "\n",
        "# Fit the model\n",
        "trained_model = fit_model(img_size, n_filters, filter_size, fc_size, drop_out, n_classes, learning_rate, num_epochs,\n",
        "                     activation, optimizer_type)\n"
      ],
      "metadata": {
        "execution": {
          "iopub.status.busy": "2024-04-08T05:25:57.307122Z",
          "iopub.execute_input": "2024-04-08T05:25:57.307422Z"
        },
        "trusted": true,
        "id": "G6l2XJ-C6Bu4",
        "outputId": "5f10a2c3-2027-4c0f-9aef-ca8f939d60f0"
      },
      "execution_count": null,
      "outputs": [
        {
          "name": "stdout",
          "text": "Epoch 1/10, Train Loss: 2.2214, Train Accuracy: 0.2256\nValidation Loss: 0.2274, Validation Accuracy: 0.1141\n",
          "output_type": "stream"
        }
      ]
    },
    {
      "cell_type": "code",
      "source": [],
      "metadata": {
        "trusted": true,
        "id": "53NAnzeA6Bu5"
      },
      "execution_count": null,
      "outputs": []
    },
    {
      "cell_type": "code",
      "source": [
        "import wandb\n",
        "# socket.setdefaulttimeout(30)\n",
        "wandb.login()"
      ],
      "metadata": {
        "execution": {
          "iopub.status.busy": "2024-04-08T05:13:00.715681Z",
          "iopub.execute_input": "2024-04-08T05:13:00.716362Z",
          "iopub.status.idle": "2024-04-08T05:13:20.203465Z",
          "shell.execute_reply.started": "2024-04-08T05:13:00.716332Z",
          "shell.execute_reply": "2024-04-08T05:13:20.202460Z"
        },
        "trusted": true,
        "id": "vHNtuPJ96Bu5",
        "outputId": "2ca3c0fc-7019-42ff-be5d-56eca2acadc9"
      },
      "execution_count": null,
      "outputs": [
        {
          "name": "stderr",
          "text": "\u001b[34m\u001b[1mwandb\u001b[0m: Logging into wandb.ai. (Learn how to deploy a W&B server locally: https://wandb.me/wandb-server)\n\u001b[34m\u001b[1mwandb\u001b[0m: You can find your API key in your browser here: https://wandb.ai/authorize\n\u001b[34m\u001b[1mwandb\u001b[0m: Paste an API key from your profile and hit enter, or press ctrl+c to quit:",
          "output_type": "stream"
        },
        {
          "output_type": "stream",
          "name": "stdin",
          "text": "  ··································\n"
        },
        {
          "name": "stderr",
          "text": "\u001b[34m\u001b[1mwandb\u001b[0m: \u001b[32m\u001b[41mERROR\u001b[0m API key must be 40 characters long, yours was 33\n\u001b[34m\u001b[1mwandb\u001b[0m: Logging into wandb.ai. (Learn how to deploy a W&B server locally: https://wandb.me/wandb-server)\n\u001b[34m\u001b[1mwandb\u001b[0m: You can find your API key in your browser here: https://wandb.ai/authorize\n\u001b[34m\u001b[1mwandb\u001b[0m: Paste an API key from your profile and hit enter, or press ctrl+c to quit:",
          "output_type": "stream"
        },
        {
          "output_type": "stream",
          "name": "stdin",
          "text": "  ········································\n"
        },
        {
          "name": "stderr",
          "text": "\u001b[34m\u001b[1mwandb\u001b[0m: Appending key for api.wandb.ai to your netrc file: /root/.netrc\n",
          "output_type": "stream"
        },
        {
          "execution_count": 4,
          "output_type": "execute_result",
          "data": {
            "text/plain": "True"
          },
          "metadata": {}
        }
      ]
    },
    {
      "cell_type": "code",
      "source": [
        "def main():\n",
        "\n",
        "    wandb.init(project='CS6910_ass2')\n",
        "    config = wandb.config\n",
        "    trained_model = fit_model(config.img_size, config.n_filters, config.filter_size,\n",
        "                              config.fc_size, config.drop_out, config.n_classes,\n",
        "                              config.learning_rate, config.num_epochs,\n",
        "                           config.activation, config.optimizer_type)\n",
        "    wandb.finish()\n",
        "\n",
        "sweep_config = {\n",
        "    \"method\": \"bayes\",\n",
        "    \"metric\": {\n",
        "        \"name\": \"val_accuracy\",\n",
        "        \"goal\": \"maximize\"\n",
        "    },\n",
        "    \"parameters\": {\n",
        "        \"img_size\": {\"values\": [128, 224, 256]},\n",
        "        \"n_filters\": {\"values\": [[16, 32, 64, 128, 256], [32, 64, 128, 256, 512]]},\n",
        "        \"filter_size\": {\"values\": [[3, 3, 3, 3, 3], [5, 5, 5, 5, 5]]},\n",
        "        \"fc_size\": {\"values\": [256, 512, 1024]},\n",
        "        \"drop_out\": {\"values\": [0.2, 0.3, 0.5]},\n",
        "        \"n_classes\": {\"values\": [5, 10, 20]},\n",
        "        \"learning_rate\": {\"values\": [0.0001, 0.001, 0.01]},\n",
        "        \"num_epochs\": {\"values\": [5, 10, 15]},\n",
        "        \"activation\": {\"values\": [\"relu\", \"elu\", \"silu\", \"selu\", \"gelu\"]},\n",
        "        \"optimizer_type\": {\"values\": [\"adam\", \"nadam\", \"rmsprop\"]},\n",
        "        \"batch_size\": {\"values\": [64, 128, 256]}\n",
        "    }\n",
        "}\n",
        "\n",
        "sweep_id = wandb.sweep(sweep_config, project=\"CS6910_ass2\")\n",
        "\n",
        "# Run sweep\n",
        "wandb.agent(sweep_id, function=main)"
      ],
      "metadata": {
        "trusted": true,
        "id": "OJ3oS2Wv6Bu6"
      },
      "execution_count": null,
      "outputs": []
    },
    {
      "cell_type": "code",
      "source": [],
      "metadata": {
        "id": "4_yXonQu6Bu6"
      },
      "execution_count": null,
      "outputs": []
    },
    {
      "cell_type": "code",
      "source": [],
      "metadata": {
        "id": "IY1aL3XY6Bu6"
      },
      "execution_count": null,
      "outputs": []
    },
    {
      "cell_type": "code",
      "source": [],
      "metadata": {
        "trusted": true,
        "id": "Kky9F0x-6Bu6"
      },
      "execution_count": null,
      "outputs": []
    },
    {
      "cell_type": "code",
      "source": [],
      "metadata": {
        "id": "aKVrLhop6Bu6"
      },
      "execution_count": null,
      "outputs": []
    },
    {
      "cell_type": "code",
      "source": [],
      "metadata": {
        "id": "I5E1H4Kd6Bu6"
      },
      "execution_count": null,
      "outputs": []
    }
  ]
}